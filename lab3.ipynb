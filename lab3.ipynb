{
 "cells": [
  {
   "cell_type": "code",
   "execution_count": 1,
   "id": "35d53b67-c9b7-45d7-9081-f5548e88fa32",
   "metadata": {},
   "outputs": [
    {
     "name": "stdin",
     "output_type": "stream",
     "text": [
      " 100\n"
     ]
    },
    {
     "name": "stdout",
     "output_type": "stream",
     "text": [
      "2834.9523099999997\n"
     ]
    }
   ],
   "source": [
    "#Python Functions1\n",
    "#1\n",
    "def grams_to_ounces(grams):\n",
    "    return grams*28.3495231\n",
    "grams=int(input())\n",
    "ounces=grams_to_ounces(grams)\n",
    "print(ounces)"
   ]
  },
  {
   "cell_type": "code",
   "execution_count": 1,
   "id": "5b5dc12a-a5c3-4649-bd4d-5ae877599d2d",
   "metadata": {},
   "outputs": [
    {
     "name": "stdin",
     "output_type": "stream",
     "text": [
      " 100\n"
     ]
    },
    {
     "name": "stdout",
     "output_type": "stream",
     "text": [
      "37.77777777777778\n"
     ]
    }
   ],
   "source": [
    "#Python Functions1\n",
    "#2\n",
    "def temp(f):\n",
    "    return (5 / 9) * (f - 32)\n",
    "ff=int(input())\n",
    "c=temp(ff)\n",
    "print(c)"
   ]
  },
  {
   "cell_type": "code",
   "execution_count": 1,
   "id": "e3525189-f3fc-497c-a54d-f4d6dfd262bd",
   "metadata": {},
   "outputs": [
    {
     "name": "stdout",
     "output_type": "stream",
     "text": [
      "Number of chickens and rabbits: (23, 12)\n"
     ]
    }
   ],
   "source": [
    "#Python Functions1\n",
    "#3\n",
    "def solve(numheads, numlegs):\n",
    "    rabbits= (numlegs - 2 * numheads) // 2\n",
    "    chickens = numheads - rabbits\n",
    "\n",
    "    if chickens >= 0 and rabbits >= 0:\n",
    "        return chickens, rabbits\n",
    "    else:\n",
    "        return \"no solution exists.\"\n",
    "\n",
    "numheads = 35\n",
    "numlegs = 94\n",
    "result = solve(numheads, numlegs)\n",
    "print(\"Number of chickens and rabbits:\", result)\n",
    "        "
   ]
  },
  {
   "cell_type": "code",
   "execution_count": 5,
   "id": "9ad282cb-143c-4900-8cc5-f14611e759f5",
   "metadata": {},
   "outputs": [
    {
     "name": "stdin",
     "output_type": "stream",
     "text": [
      "enter numbers: 10 15 17 23 30 37\n"
     ]
    },
    {
     "name": "stdout",
     "output_type": "stream",
     "text": [
      "prime number: [17, 23, 37]\n"
     ]
    }
   ],
   "source": [
    "#Python Functions1\n",
    "#4\n",
    "def is_prime(n):\n",
    "    if n<=1:\n",
    "        return False\n",
    "    for i in range (2, int(n**0.5)+1):\n",
    "        if n%i==0:\n",
    "            return False\n",
    "    return True\n",
    "\n",
    "def filter_prime(numbers):\n",
    "    return [num for num in numbers if is_prime(num)]\n",
    "\n",
    "numbers = list(map(int,input(\"enter numbers:\").split()))\n",
    "prime_numbers=filter_prime(numbers)\n",
    "print(\"prime number:\", prime_numbers)"
   ]
  },
  {
   "cell_type": "code",
   "execution_count": 7,
   "id": "eec68341-d4a9-4bf9-b963-8cf6daa9e0f9",
   "metadata": {},
   "outputs": [
    {
     "name": "stdin",
     "output_type": "stream",
     "text": [
      "enter a string:  abc\n"
     ]
    },
    {
     "name": "stdout",
     "output_type": "stream",
     "text": [
      "permutations of the string:\n",
      "abc\n",
      "acb\n",
      "bac\n",
      "bca\n",
      "cab\n",
      "cba\n"
     ]
    }
   ],
   "source": [
    "#Python Functions1\n",
    "#5\n",
    "def permute(s, answer=\"\"):\n",
    "    if len(s)==0:\n",
    "        print(answer)\n",
    "        return\n",
    "    for i in range(len(s)):\n",
    "        char=s[i]\n",
    "        remaining=s[:i] + s[i+1:]\n",
    "        permute(remaining, answer+char)\n",
    "user_input=input(\"enter a string: \")\n",
    "print(\"permutations of the string:\")\n",
    "permute(user_input)"
   ]
  },
  {
   "cell_type": "code",
   "execution_count": 9,
   "id": "838f10fc-9bd1-4c48-9725-d5f6168fd76f",
   "metadata": {},
   "outputs": [
    {
     "name": "stdin",
     "output_type": "stream",
     "text": [
      "enter a sentence:  we are ready\n"
     ]
    },
    {
     "name": "stdout",
     "output_type": "stream",
     "text": [
      "reversed sentence: ready are we\n"
     ]
    }
   ],
   "source": [
    "#Python Functions1\n",
    "#6\n",
    "def reverse_words(sentence):\n",
    "    words=sentence.split()\n",
    "    reversed_words=words[::-1]\n",
    "    return \" \".join(reversed_words)\n",
    "\n",
    "user_input=input(\"enter a sentence: \")\n",
    "reversed_sentence=reverse_words(user_input)\n",
    "print(\"reversed sentence:\", reversed_sentence)"
   ]
  },
  {
   "cell_type": "code",
   "execution_count": 13,
   "id": "78a5d21d-078a-47fd-ba58-a1405d74c8d1",
   "metadata": {},
   "outputs": [
    {
     "name": "stdout",
     "output_type": "stream",
     "text": [
      "True\n",
      "False\n",
      "False\n"
     ]
    }
   ],
   "source": [
    "#Python Functions1\n",
    "#7\n",
    "def has_33(nums):\n",
    "    for i in range(len(nums)-1):\n",
    "        if nums[i]==3 and nums[i+1]==3:\n",
    "            return True\n",
    "    return False \n",
    "print(has_33([1,3,3]))\n",
    "print(has_33([1,3,1,3]))\n",
    "print(has_33([3,1,3]))"
   ]
  },
  {
   "cell_type": "code",
   "execution_count": 17,
   "id": "bb3b7815-dec5-44f1-9134-b101fd691229",
   "metadata": {},
   "outputs": [
    {
     "name": "stdout",
     "output_type": "stream",
     "text": [
      "True\n",
      "True\n",
      "False\n"
     ]
    }
   ],
   "source": [
    "#Python Functions1\n",
    "#8\n",
    "def spy_game(nums):\n",
    "    code=[0,0,7]\n",
    "    for num in nums:\n",
    "        if num==code[0]:\n",
    "            code.pop(0)\n",
    "        if not code:\n",
    "            return True\n",
    "    return False\n",
    "\n",
    "print(spy_game([1,2,4,0,0,7,5]))\n",
    "print(spy_game([1,0,2,4,0,5,7]))\n",
    "print(spy_game([1,7,2,0,4,5,0]))"
   ]
  },
  {
   "cell_type": "code",
   "execution_count": 19,
   "id": "2a99c964-db34-40d5-8edf-51559687e39d",
   "metadata": {},
   "outputs": [
    {
     "name": "stdin",
     "output_type": "stream",
     "text": [
      " 3\n"
     ]
    },
    {
     "name": "stdout",
     "output_type": "stream",
     "text": [
      "113.09733552923254\n"
     ]
    }
   ],
   "source": [
    "#Python Functions1\n",
    "#9\n",
    "import math\n",
    "\n",
    "def volume(radius):\n",
    "    return (4/3)*math.pi*radius**3\n",
    "\n",
    "radius=float(input())\n",
    "print(volume(radius))\n",
    "    "
   ]
  },
  {
   "cell_type": "code",
   "execution_count": 21,
   "id": "d8a8667f-b0f1-4069-8ea4-a9ffb150ca34",
   "metadata": {},
   "outputs": [
    {
     "name": "stdin",
     "output_type": "stream",
     "text": [
      " 1 2 2 3 4 4 5\n"
     ]
    },
    {
     "name": "stdout",
     "output_type": "stream",
     "text": [
      "[1, 2, 3, 4, 5]\n"
     ]
    }
   ],
   "source": [
    "#Python Functions1\n",
    "#10\n",
    "def unique_elements(lst):\n",
    "    unique_lst=[]\n",
    "    for item in lst:\n",
    "        if item not in unique_lst:\n",
    "            unique_lst.append(item)\n",
    "    return unique_lst\n",
    "\n",
    "input_list=input().split()\n",
    "input_list=[int(i) for i in input_list]\n",
    "print(unique_elements(input_list))"
   ]
  },
  {
   "cell_type": "code",
   "execution_count": 23,
   "id": "e9f615f6-de9e-435b-99e2-45dd4ef65fce",
   "metadata": {},
   "outputs": [
    {
     "name": "stdin",
     "output_type": "stream",
     "text": [
      " madam\n"
     ]
    },
    {
     "name": "stdout",
     "output_type": "stream",
     "text": [
      "yes\n"
     ]
    }
   ],
   "source": [
    "#Python Functions1\n",
    "#11\n",
    "def is_palindrome(s):\n",
    "    s=s.replace(\" \", \"\").lower()\n",
    "    return s==s[::-1]\n",
    "\n",
    "input_string=input()\n",
    "if is_palindrome(input_string):\n",
    "    print(\"yes\")\n",
    "\n",
    "else:\n",
    "    print(\"no\")\n"
   ]
  },
  {
   "cell_type": "code",
   "execution_count": 29,
   "id": "31e32443-8753-4c99-84f2-17523e6cfc80",
   "metadata": {},
   "outputs": [
    {
     "name": "stdin",
     "output_type": "stream",
     "text": [
      " 4 9 7\n"
     ]
    },
    {
     "name": "stdout",
     "output_type": "stream",
     "text": [
      "****\n",
      "*********\n",
      "*******\n"
     ]
    }
   ],
   "source": [
    "#Python Functions1\n",
    "#12\n",
    "def histogram(lst):\n",
    "    for number in lst:\n",
    "        print('*'*number)\n",
    "input_list=input().split()\n",
    "input_list=[int(i) for i in input_list]\n",
    "\n",
    "histogram(input_list)"
   ]
  },
  {
   "cell_type": "code",
   "execution_count": 33,
   "id": "06a16b25-74cf-4af5-b494-93632eb033e1",
   "metadata": {},
   "outputs": [
    {
     "name": "stdin",
     "output_type": "stream",
     "text": [
      "Hello! What is your name?\n",
      " Yenlik\n"
     ]
    },
    {
     "name": "stdout",
     "output_type": "stream",
     "text": [
      "Well, Yenlik, I'm thinking of a number between 1 amd 20. Take a guess.\n"
     ]
    },
    {
     "name": "stdin",
     "output_type": "stream",
     "text": [
      " 13\n"
     ]
    },
    {
     "name": "stdout",
     "output_type": "stream",
     "text": [
      "Your guess is too low. Take a guess.\n"
     ]
    },
    {
     "name": "stdin",
     "output_type": "stream",
     "text": [
      " 15\n"
     ]
    },
    {
     "name": "stdout",
     "output_type": "stream",
     "text": [
      "Your guess is too high. Take a guess.\n"
     ]
    },
    {
     "name": "stdin",
     "output_type": "stream",
     "text": [
      " 14\n"
     ]
    },
    {
     "name": "stdout",
     "output_type": "stream",
     "text": [
      "Good job, Yenlik! You guessed my number in 3 guesses.\n"
     ]
    }
   ],
   "source": [
    "#Python Functions1\n",
    "#13\n",
    "import random\n",
    "def guess_the_number():\n",
    "    number_to_guess=random.randint(1,20)\n",
    "    name=input(\"Hello! What is your name?\\n\")\n",
    "    print(f\"Well, {name}, I'm thinking of a number between 1 amd 20. Take a guess.\")\n",
    "    guesses_taken=0\n",
    "    while True:\n",
    "        guess=int(input())\n",
    "        guesses_taken+=1\n",
    "        if guess<number_to_guess:\n",
    "            print(\"Your guess is too low. Take a guess.\")\n",
    "        elif guess>number_to_guess:\n",
    "            print(\"Your guess is too high. Take a guess.\")\n",
    "        else:\n",
    "            print(f\"Good job, {name}! You guessed my number in {guesses_taken} guesses.\")\n",
    "            break\n",
    "        \n",
    "guess_the_number()            \n"
   ]
  },
  {
   "cell_type": "code",
   "execution_count": 43,
   "id": "9273201c-f9c3-41dc-978b-59966f860c87",
   "metadata": {},
   "outputs": [
    {
     "name": "stdout",
     "output_type": "stream",
     "text": [
      "True\n",
      "\n",
      "\n",
      "[{'name': 'Usual Suspects', 'imdb': 7.0, 'category': 'Thriller'}, {'name': 'Hitman', 'imdb': 6.3, 'category': 'Action'}, {'name': 'Dark Knight', 'imdb': 9.0, 'category': 'Adventure'}, {'name': 'The Help', 'imdb': 8.0, 'category': 'Drama'}, {'name': 'The Choice', 'imdb': 6.2, 'category': 'Romance'}, {'name': 'Colonia', 'imdb': 7.4, 'category': 'Romance'}, {'name': 'Love', 'imdb': 6.0, 'category': 'Romance'}, {'name': 'Joking muck', 'imdb': 7.2, 'category': 'Comedy'}, {'name': 'What is the name', 'imdb': 9.2, 'category': 'Suspense'}, {'name': 'Detective', 'imdb': 7.0, 'category': 'Suspense'}, {'name': 'We Two', 'imdb': 7.2, 'category': 'Romance'}]\n",
      "\n",
      "\n",
      "[{'name': 'The Choice', 'imdb': 6.2, 'category': 'Romance'}, {'name': 'Colonia', 'imdb': 7.4, 'category': 'Romance'}, {'name': 'Love', 'imdb': 6.0, 'category': 'Romance'}, {'name': 'Bride Wars', 'imdb': 5.4, 'category': 'Romance'}, {'name': 'We Two', 'imdb': 7.2, 'category': 'Romance'}]\n",
      "\n",
      "\n",
      "6.486666666666666\n",
      "\n",
      "\n",
      "6.44\n"
     ]
    }
   ],
   "source": [
    "#Python Functions2\n",
    "\n",
    "# Dictionary of movies\n",
    "\n",
    "movies = [\n",
    "{\n",
    "\"name\": \"Usual Suspects\", \n",
    "\"imdb\": 7.0,\n",
    "\"category\": \"Thriller\"\n",
    "},\n",
    "{\n",
    "\"name\": \"Hitman\",\n",
    "\"imdb\": 6.3,\n",
    "\"category\": \"Action\"\n",
    "},\n",
    "{\n",
    "\"name\": \"Dark Knight\",\n",
    "\"imdb\": 9.0,\n",
    "\"category\": \"Adventure\"\n",
    "},\n",
    "{\n",
    "\"name\": \"The Help\",\n",
    "\"imdb\": 8.0,\n",
    "\"category\": \"Drama\"\n",
    "},\n",
    "{\n",
    "\"name\": \"The Choice\",\n",
    "\"imdb\": 6.2,\n",
    "\"category\": \"Romance\"\n",
    "},\n",
    "{\n",
    "\"name\": \"Colonia\",\n",
    "\"imdb\": 7.4,\n",
    "\"category\": \"Romance\"\n",
    "},\n",
    "{\n",
    "\"name\": \"Love\",\n",
    "\"imdb\": 6.0,\n",
    "\"category\": \"Romance\"\n",
    "},\n",
    "{\n",
    "\"name\": \"Bride Wars\",\n",
    "\"imdb\": 5.4,\n",
    "\"category\": \"Romance\"\n",
    "},\n",
    "{\n",
    "\"name\": \"AlphaJet\",\n",
    "\"imdb\": 3.2,\n",
    "\"category\": \"War\"\n",
    "},\n",
    "{\n",
    "\"name\": \"Ringing Crime\",\n",
    "\"imdb\": 4.0,\n",
    "\"category\": \"Crime\"\n",
    "},\n",
    "{\n",
    "\"name\": \"Joking muck\",\n",
    "\"imdb\": 7.2,\n",
    "\"category\": \"Comedy\"\n",
    "},\n",
    "{\n",
    "\"name\": \"What is the name\",\n",
    "\"imdb\": 9.2,\n",
    "\"category\": \"Suspense\"\n",
    "},\n",
    "{\n",
    "\"name\": \"Detective\",\n",
    "\"imdb\": 7.0,\n",
    "\"category\": \"Suspense\"\n",
    "},\n",
    "{\n",
    "\"name\": \"Exam\",\n",
    "\"imdb\": 4.2,\n",
    "\"category\": \"Thriller\"\n",
    "},\n",
    "{\n",
    "\"name\": \"We Two\",\n",
    "\"imdb\": 7.2,\n",
    "\"category\": \"Romance\"\n",
    "}\n",
    "]\n",
    "\n",
    "def is_high_score(movie):\n",
    "    return movie[\"imdb\"]>5.5\n",
    "\n",
    "def movies_above_5_5(movies):\n",
    "    return [movie for movie in movies if is_high_score(movie)]\n",
    "\n",
    "def movies_by_category(movies,category):\n",
    "    return [movie for movie in movies if movie[\"category\"].lower()==category.lower()]\n",
    "\n",
    "def average_imdb_score(movies):\n",
    "    if not movies:\n",
    "        return 0\n",
    "    total_score=sum(movie[\"imdb\"] for movie in movies)\n",
    "    return total_score/len(movies)\n",
    "\n",
    "def average_score_by_category(movies, category):\n",
    "    category_movies=movies_by_category(movies, category)\n",
    "    return average_imdb_score(category_movies)\n",
    "\n",
    "print(is_high_score({\"name\": \"Usual Suspects\", \"imdb\":7.0, \"category\": \"Thriller\"}))\n",
    "print('\\n')\n",
    "\n",
    "print(movies_above_5_5(movies))\n",
    "print('\\n')\n",
    "\n",
    "print(movies_by_category(movies,\"Romance\"))\n",
    "print('\\n')\n",
    "\n",
    "print(average_imdb_score(movies))\n",
    "print('\\n')\n",
    "\n",
    "print(average_score_by_category(movies, \"Romance\"))"
   ]
  },
  {
   "cell_type": "code",
   "execution_count": 45,
   "id": "02f5d79d-8afc-4e35-a951-a553dd391dd6",
   "metadata": {},
   "outputs": [
    {
     "name": "stdin",
     "output_type": "stream",
     "text": [
      "Enter a string: hello\n"
     ]
    },
    {
     "name": "stdout",
     "output_type": "stream",
     "text": [
      "HELLO\n"
     ]
    }
   ],
   "source": [
    "#Python Classes\n",
    "#task1\n",
    "class Stringup:\n",
    "    def __init__(self):\n",
    "        self.string=\"\"\n",
    "    def getString(self):\n",
    "        self.string=input(\"Enter a string:\")\n",
    "    def printString(self):\n",
    "        print(self.string.upper())\n",
    "\n",
    "sm=Stringup()\n",
    "sm.getString()\n",
    "sm.printString()"
   ]
  },
  {
   "cell_type": "code",
   "execution_count": 47,
   "id": "afc9ab51-a4d4-4911-a0cf-e237563a7116",
   "metadata": {},
   "outputs": [
    {
     "name": "stdout",
     "output_type": "stream",
     "text": [
      "Area of square: 25\n"
     ]
    }
   ],
   "source": [
    "#Python Classes\n",
    "#task2\n",
    "class Shape:\n",
    "    def __init__(self):\n",
    "        pass\n",
    "    def area(self):\n",
    "        return 0\n",
    "\n",
    "class Square(Shape):\n",
    "    def __init__(self, length):\n",
    "        self.length=length\n",
    "\n",
    "    def area(self):\n",
    "        return self.length**2\n",
    "\n",
    "square=Square(5)\n",
    "print(\"Area of square:\", square.area())"
   ]
  },
  {
   "cell_type": "code",
   "execution_count": 49,
   "id": "98ff4ed7-3166-487a-9cfc-ffbd8368c70c",
   "metadata": {},
   "outputs": [
    {
     "name": "stdout",
     "output_type": "stream",
     "text": [
      "Area of rectangle: 20\n"
     ]
    }
   ],
   "source": [
    "#Python Classes\n",
    "#task3\n",
    "class Rectangle(Shape):\n",
    "    def __init__(self, length, width):\n",
    "        self.length=length\n",
    "        self.width=width\n",
    "\n",
    "    def area(self):\n",
    "        return self.length*self.width\n",
    "\n",
    "rect=Rectangle(4,5)\n",
    "print(\"Area of rectangle:\", rect.area())"
   ]
  },
  {
   "cell_type": "code",
   "execution_count": 57,
   "id": "2ec92f02-e4c5-4625-8d9e-4bd646ddc10d",
   "metadata": {},
   "outputs": [
    {
     "name": "stdout",
     "output_type": "stream",
     "text": [
      "Point: (0,0)\n",
      "Point: (3,4)\n",
      "Distance between points: 5.0\n"
     ]
    }
   ],
   "source": [
    "#Python Classes\n",
    "#task4\n",
    "import math\n",
    "\n",
    "class Point:\n",
    "    def __init__(self,x,y):\n",
    "        self.x=x\n",
    "        self.y=y\n",
    "        \n",
    "    def show(self):\n",
    "        print(f\"Point: ({self.x},{self.y})\")\n",
    "\n",
    "    def move(self, new_x, new_y):\n",
    "        self.x=new_x\n",
    "        self.y=new_y\n",
    "\n",
    "    def dist(self, other_point):\n",
    "        return math.sqrt((self.x-other_point.x)**2+(self.y-other_point.y)**2)\n",
    "\n",
    "p1=Point(0,0)\n",
    "p2=Point(3,4)\n",
    "p1.show()\n",
    "p2.show()\n",
    "print(\"Distance between points:\", p1.dist(p2))"
   ]
  },
  {
   "cell_type": "code",
   "execution_count": 59,
   "id": "85c20bb1-e1e8-4006-be55-9ac538b26e09",
   "metadata": {},
   "outputs": [
    {
     "name": "stdout",
     "output_type": "stream",
     "text": [
      "Deposit of 50 successful. New balance: 150\n",
      "Withdrawal of 30 successful. New balance: 120\n",
      "Insufficient funds!\n"
     ]
    }
   ],
   "source": [
    "#Python Classes\n",
    "#task5\n",
    "class Account:\n",
    "    def __init__(self, owner, balance=0):\n",
    "        self.owner=owner\n",
    "        self.balance=balance\n",
    "\n",
    "    def deposit(self, amount):\n",
    "        self.balance += amount\n",
    "        print(f\"Deposit of {amount} successful. New balance: {self.balance}\")\n",
    "\n",
    "    def withdraw(self,amount):\n",
    "        if amount>self.balance:\n",
    "            print(\"Insufficient funds!\")\n",
    "        else:\n",
    "            self.balance -= amount\n",
    "            print(f\"Withdrawal of {amount} successful. New balance: {self.balance}\")\n",
    "\n",
    "acct=Account(\"John\",100)\n",
    "acct.deposit(50)\n",
    "acct.withdraw(30)\n",
    "acct.withdraw(150)"
   ]
  },
  {
   "cell_type": "code",
   "execution_count": 63,
   "id": "454598b1-2b51-4241-9a58-826e1ae4f8ca",
   "metadata": {},
   "outputs": [
    {
     "name": "stdin",
     "output_type": "stream",
     "text": [
      " 2 3 4 5 10 13 15\n"
     ]
    },
    {
     "name": "stdout",
     "output_type": "stream",
     "text": [
      "prime numbers: [2, 3, 5, 13]\n"
     ]
    }
   ],
   "source": [
    "#Python Classes\n",
    "#task6\n",
    "def is_prime(num):\n",
    "    if num<2:\n",
    "        return False\n",
    "    for i in range(2,int(num**0.5)+1):\n",
    "        if num%i==0:\n",
    "            return False\n",
    "    return True\n",
    "\n",
    "numbers=input().split()\n",
    "numbers=[int(num) for num in numbers]\n",
    "\n",
    "primes=list(filter(lambda x: is_prime(x), numbers))\n",
    "\n",
    "print(\"prime numbers:\",primes)"
   ]
  }
 ],
 "metadata": {
  "kernelspec": {
   "display_name": "Python [conda env:base] *",
   "language": "python",
   "name": "conda-base-py"
  },
  "language_info": {
   "codemirror_mode": {
    "name": "ipython",
    "version": 3
   },
   "file_extension": ".py",
   "mimetype": "text/x-python",
   "name": "python",
   "nbconvert_exporter": "python",
   "pygments_lexer": "ipython3",
   "version": "3.12.7"
  }
 },
 "nbformat": 4,
 "nbformat_minor": 5
}
