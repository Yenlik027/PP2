{
 "cells": [
  {
   "cell_type": "code",
   "execution_count": 3,
   "id": "87c6dd99-8aa0-4a0a-90a9-aa0058089aa1",
   "metadata": {},
   "outputs": [
    {
     "name": "stdin",
     "output_type": "stream",
     "text": [
      "Введите строку:  abb\n"
     ]
    },
    {
     "name": "stdout",
     "output_type": "stream",
     "text": [
      "Соответствует шаблону\n"
     ]
    }
   ],
   "source": [
    "import re\n",
    "\n",
    "string = input(\"Введите строку: \")\n",
    "if re.fullmatch(r'a*b*', string):\n",
    "    print(\"Соответствует шаблону\")\n",
    "else:\n",
    "    print(\"Не соответствует шаблону\")"
   ]
  },
  {
   "cell_type": "code",
   "execution_count": 5,
   "id": "04b90120-1c8c-4c88-bdca-8e2ee4119e85",
   "metadata": {},
   "outputs": [
    {
     "name": "stdin",
     "output_type": "stream",
     "text": [
      "Введите строку:  ab\n"
     ]
    },
    {
     "name": "stdout",
     "output_type": "stream",
     "text": [
      "Не соответствует шаблону\n"
     ]
    }
   ],
   "source": [
    "import re\n",
    "\n",
    "string = input(\"Введите строку: \")\n",
    "if re.fullmatch(r'ab{2,3}', string):\n",
    "    print(\"Соответствует шаблону\")\n",
    "else:\n",
    "    print(\"Не соответствует шаблону\")"
   ]
  },
  {
   "cell_type": "code",
   "execution_count": 7,
   "id": "b1d7361e-ea55-4f78-811c-cde4ce001501",
   "metadata": {},
   "outputs": [
    {
     "name": "stdin",
     "output_type": "stream",
     "text": [
      "Введите строку:  hello_world example_test\n"
     ]
    },
    {
     "name": "stdout",
     "output_type": "stream",
     "text": [
      "Найденные последовательности: ['hello_world', 'example_test']\n"
     ]
    }
   ],
   "source": [
    "import re\n",
    "\n",
    "string = input(\"Введите строку: \")\n",
    "matches = re.findall(r'\\b[a-z]+_[a-z]+\\b', string)\n",
    "print(\"Найденные последовательности:\", matches)"
   ]
  },
  {
   "cell_type": "code",
   "execution_count": 15,
   "id": "81ebe359-8145-4ec0-97df-baf60162a93f",
   "metadata": {},
   "outputs": [
    {
     "name": "stdin",
     "output_type": "stream",
     "text": [
      "Введите строку:  Hello World\n"
     ]
    },
    {
     "name": "stdout",
     "output_type": "stream",
     "text": [
      "Найденные слова: ['Hello', 'World']\n"
     ]
    }
   ],
   "source": [
    "import re\n",
    "\n",
    "string = input(\"Введите строку: \")\n",
    "matches = re.findall(r'[A-Z][a-z]+', string)\n",
    "print(\"Найденные слова:\", matches)"
   ]
  },
  {
   "cell_type": "code",
   "execution_count": 11,
   "id": "6b648c9e-b39c-4b9d-a755-8fdb8cc7d4a6",
   "metadata": {},
   "outputs": [
    {
     "name": "stdin",
     "output_type": "stream",
     "text": [
      "Введите строку:  axxb\n"
     ]
    },
    {
     "name": "stdout",
     "output_type": "stream",
     "text": [
      "Соответствует шаблону\n"
     ]
    }
   ],
   "source": [
    "import re\n",
    "\n",
    "string = input(\"Введите строку: \")\n",
    "if re.fullmatch(r'a.*b', string):\n",
    "    print(\"Соответствует шаблону\")\n",
    "else:\n",
    "    print(\"Не соответствует шаблону\")"
   ]
  },
  {
   "cell_type": "code",
   "execution_count": 13,
   "id": "2f8c0c6f-41b7-40ed-9aff-1664fe7df5b1",
   "metadata": {},
   "outputs": [
    {
     "name": "stdin",
     "output_type": "stream",
     "text": [
      "Введите строку:  Hello, world. This is a test\n"
     ]
    },
    {
     "name": "stdout",
     "output_type": "stream",
     "text": [
      "Измененная строка: Hello::world::This:is:a:test\n"
     ]
    }
   ],
   "source": [
    "import re\n",
    "\n",
    "string = input(\"Введите строку: \")\n",
    "modified_string = re.sub(r'[ ,.]', ':', string)\n",
    "print(\"Измененная строка:\", modified_string)"
   ]
  },
  {
   "cell_type": "code",
   "execution_count": 17,
   "id": "443cebbc-2b06-43fa-9aed-85e5a9761bca",
   "metadata": {},
   "outputs": [
    {
     "name": "stdin",
     "output_type": "stream",
     "text": [
      "Введите строку в snake_case:  hello_world_test\n"
     ]
    },
    {
     "name": "stdout",
     "output_type": "stream",
     "text": [
      "Результат в camelCase: helloWorldTest\n"
     ]
    }
   ],
   "source": [
    "string = input(\"Введите строку в snake_case: \")\n",
    "parts = string.split('_')\n",
    "camel_case = parts[0] + ''.join(word.capitalize() for word in parts[1:])\n",
    "print(\"Результат в camelCase:\", camel_case)"
   ]
  },
  {
   "cell_type": "code",
   "execution_count": 21,
   "id": "60cf7e9d-4c8a-4a22-b605-1b6a657ccea3",
   "metadata": {},
   "outputs": [
    {
     "name": "stdin",
     "output_type": "stream",
     "text": [
      "Введите строку:  HelloWorld\n"
     ]
    },
    {
     "name": "stdout",
     "output_type": "stream",
     "text": [
      "Разделенные слова: ['Hello', 'World']\n"
     ]
    }
   ],
   "source": [
    "import re\n",
    "\n",
    "string = input(\"Введите строку: \")\n",
    "split_words = re.findall(r'[A-Z][^A-Z]*', string)\n",
    "print(\"Разделенные слова:\", split_words)"
   ]
  },
  {
   "cell_type": "code",
   "execution_count": 23,
   "id": "d6762db1-472e-490e-838b-0f89d0b611ed",
   "metadata": {},
   "outputs": [
    {
     "name": "stdin",
     "output_type": "stream",
     "text": [
      "Введите строку:  HelloWorld\n"
     ]
    },
    {
     "name": "stdout",
     "output_type": "stream",
     "text": [
      "Измененная строка: Hello World\n"
     ]
    }
   ],
   "source": [
    "import re\n",
    "\n",
    "string = input(\"Введите строку: \")\n",
    "modified_string = re.sub(r'([a-z])([A-Z])', r'\\1 \\2', string)\n",
    "print(\"Измененная строка:\", modified_string)"
   ]
  },
  {
   "cell_type": "code",
   "execution_count": 25,
   "id": "c4ca7383-83aa-43fb-93d5-0a5fc3102ee6",
   "metadata": {},
   "outputs": [
    {
     "name": "stdin",
     "output_type": "stream",
     "text": [
      "Введите строку в camelCase:  HelloWorld\n"
     ]
    },
    {
     "name": "stdout",
     "output_type": "stream",
     "text": [
      "Результат в snake_case: hello_world\n"
     ]
    }
   ],
   "source": [
    "import re\n",
    "\n",
    "string = input(\"Введите строку в camelCase: \")\n",
    "snake_case = re.sub(r'([a-z])([A-Z])', r'\\1_\\2', string).lower()\n",
    "print(\"Результат в snake_case:\", snake_case)"
   ]
  }
 ],
 "metadata": {
  "kernelspec": {
   "display_name": "Python [conda env:base] *",
   "language": "python",
   "name": "conda-base-py"
  },
  "language_info": {
   "codemirror_mode": {
    "name": "ipython",
    "version": 3
   },
   "file_extension": ".py",
   "mimetype": "text/x-python",
   "name": "python",
   "nbconvert_exporter": "python",
   "pygments_lexer": "ipython3",
   "version": "3.12.7"
  }
 },
 "nbformat": 4,
 "nbformat_minor": 5
}
