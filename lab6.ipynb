{
 "cells": [
  {
   "cell_type": "code",
   "execution_count": 1,
   "id": "eff7fb57-2c1b-4069-a98e-052979a8a65c",
   "metadata": {},
   "outputs": [
    {
     "name": "stdout",
     "output_type": "stream",
     "text": [
      "Файл 'example.txt' создан и записан!\n"
     ]
    }
   ],
   "source": [
    "file_path = \"example.txt\" \n",
    "\n",
    "with open(file_path, \"w\", encoding=\"utf-8\") as file:\n",
    "    file.write(\"Hello, world!\\n\")\n",
    "    file.write(\"Python is fun!\\n\")\n",
    "\n",
    "print(\"Файл 'example.txt' создан и записан!\")"
   ]
  },
  {
   "cell_type": "code",
   "execution_count": 3,
   "id": "df0e6b2d-3bf2-4261-b776-5489b3b17082",
   "metadata": {},
   "outputs": [
    {
     "name": "stdout",
     "output_type": "stream",
     "text": [
      "/Users/yenlikyerkin/Desktop/PP2\n"
     ]
    }
   ],
   "source": [
    "import os\n",
    "print(os.getcwd())"
   ]
  },
  {
   "cell_type": "code",
   "execution_count": 5,
   "id": "b862def4-eb6a-4edc-9c1a-ebff83f54368",
   "metadata": {},
   "outputs": [
    {
     "name": "stdout",
     "output_type": "stream",
     "text": [
      "all files and folders: ['.DS_Store', 'lab2.ipynb', 'sample-data.json', 'lab6.ipynb', 'lab4.ipynb', 'example.txt', 'json.ipynb', '.ipynb_checkpoints', 'lab3.ipynb', 'lab1.ipynb', 'lab5.ipynb']\n"
     ]
    }
   ],
   "source": [
    "#Python Directories and Files exercises \n",
    "#1\n",
    "import os \n",
    "print(\"all files and folders:\", os.listdir(\".\"))"
   ]
  },
  {
   "cell_type": "code",
   "execution_count": 7,
   "id": "1d1964fa-6f9e-41fc-993a-8ad39533438e",
   "metadata": {},
   "outputs": [
    {
     "name": "stdout",
     "output_type": "stream",
     "text": [
      "existence: True\n",
      "readability: True\n",
      "writability: True\n",
      "executability: False\n"
     ]
    }
   ],
   "source": [
    "#2\n",
    "import os\n",
    "path = \"example.txt\"\n",
    "print(\"existence:\", os.path.exists(path))\n",
    "print(\"readability:\", os.access(path, os.R_OK))\n",
    "print(\"writability:\", os.access(path, os.W_OK))\n",
    "print(\"executability:\", os.access(path, os.X_OK))"
   ]
  },
  {
   "cell_type": "code",
   "execution_count": 9,
   "id": "1afd8dfe-8938-4ee4-b8a8-26b864cdf716",
   "metadata": {},
   "outputs": [
    {
     "name": "stdout",
     "output_type": "stream",
     "text": [
      "Путь существует.\n",
      "Папка: /Users/yenlikyerkin/Desktop/PP2\n",
      "Имя файла: example.txt\n"
     ]
    }
   ],
   "source": [
    "#3\n",
    "import os\n",
    "path = \"example.txt\"\n",
    "if os.path.exists(path):\n",
    "    print(\"Путь существует.\")\n",
    "    print(\"Папка:\", os.path.dirname(os.path.abspath(path)))\n",
    "    print(\"Имя файла:\", os.path.basename(path))\n",
    "else:\n",
    "    print(\"Файл не найден.\")"
   ]
  },
  {
   "cell_type": "code",
   "execution_count": 11,
   "id": "45e69072-4933-4f45-9f96-5569bd8ae5c5",
   "metadata": {},
   "outputs": [
    {
     "name": "stdout",
     "output_type": "stream",
     "text": [
      "Количество строк: 2\n"
     ]
    }
   ],
   "source": [
    "#4\n",
    "file_path = \"example.txt\"\n",
    "with open(file_path, \"r\", encoding=\"utf-8\") as file:\n",
    "    print(\"Количество строк:\", sum(1 for line in file))"
   ]
  },
  {
   "cell_type": "code",
   "execution_count": 13,
   "id": "1b995749-9ff7-4c84-8ab0-d919fdfa0185",
   "metadata": {},
   "outputs": [
    {
     "name": "stdout",
     "output_type": "stream",
     "text": [
      "Данные записаны в 'output.txt'\n"
     ]
    }
   ],
   "source": [
    "#5\n",
    "file_path = \"output.txt\"\n",
    "data = [\"Apple\", \"Banana\", \"Cherry\"]\n",
    "\n",
    "with open(file_path, \"w\", encoding=\"utf-8\") as file:\n",
    "    for item in data:\n",
    "        file.write(item + \"\\n\")\n",
    "\n",
    "print(\"Данные записаны в 'output.txt'\")"
   ]
  },
  {
   "cell_type": "code",
   "execution_count": 15,
   "id": "98174e3b-8e40-4c2d-8f7b-b39eaf135510",
   "metadata": {},
   "outputs": [
    {
     "name": "stdout",
     "output_type": "stream",
     "text": [
      "26 файлов (A-Z) созданы.\n"
     ]
    }
   ],
   "source": [
    "#6\n",
    "import string\n",
    "for letter in string.ascii_uppercase:  # A-Z\n",
    "    file_path = f\"{letter}.txt\"\n",
    "    with open(file_path, \"w\", encoding=\"utf-8\") as file:\n",
    "        file.write(f\"This is file {letter}.txt\\n\")\n",
    "print(\"26 файлов (A-Z) созданы.\")"
   ]
  },
  {
   "cell_type": "code",
   "execution_count": 17,
   "id": "9e366e69-d8df-4f51-8eca-cb62ecb43f26",
   "metadata": {},
   "outputs": [
    {
     "name": "stdout",
     "output_type": "stream",
     "text": [
      "Файл 'example.txt' скопирован в 'copy.txt'.\n"
     ]
    }
   ],
   "source": [
    "#7\n",
    "import shutil\n",
    "source = \"example.txt\"\n",
    "destination = \"copy.txt\"\n",
    "\n",
    "shutil.copy(source, destination)\n",
    "print(\"Файл 'example.txt' скопирован в 'copy.txt'.\")"
   ]
  },
  {
   "cell_type": "code",
   "execution_count": 19,
   "id": "85e70fe8-7f3f-4236-998a-9cb2e2bae3c5",
   "metadata": {},
   "outputs": [
    {
     "name": "stdout",
     "output_type": "stream",
     "text": [
      "Файл не существует или не может быть удалён.\n"
     ]
    }
   ],
   "source": [
    "#8\n",
    "import os\n",
    "file_path = \"delete_me.txt\"\n",
    "if os.path.exists(file_path) and os.access(file_path, os.W_OK):\n",
    "    os.remove(file_path)\n",
    "    print(\"Файл удалён.\")\n",
    "else:\n",
    "    print(\"Файл не существует или не может быть удалён.\")"
   ]
  },
  {
   "cell_type": "code",
   "execution_count": 21,
   "id": "83abc5be-1ad6-4789-b665-ba450fdea56b",
   "metadata": {},
   "outputs": [
    {
     "name": "stdout",
     "output_type": "stream",
     "text": [
      "Произведение всех чисел в списке: 24\n"
     ]
    }
   ],
   "source": [
    "#Python builtin functions exercises\n",
    "#1\n",
    "from functools import reduce\n",
    "\n",
    "numbers = [1, 2, 3, 4]\n",
    "result = reduce(lambda x, y: x * y, numbers)\n",
    "print(\"Произведение всех чисел в списке:\", result)"
   ]
  },
  {
   "cell_type": "code",
   "execution_count": 23,
   "id": "427a6d70-38d9-40af-8c19-7f8c16502638",
   "metadata": {},
   "outputs": [
    {
     "name": "stdout",
     "output_type": "stream",
     "text": [
      "Количество заглавных букв: 2\n",
      "Количество строчных букв: 8\n"
     ]
    }
   ],
   "source": [
    "#2\n",
    "s = \"Hello World!\"\n",
    "\n",
    "upper_count = sum(1 for c in s if c.isupper())\n",
    "lower_count = sum(1 for c in s if c.islower())\n",
    "\n",
    "print(\"Количество заглавных букв:\", upper_count)\n",
    "print(\"Количество строчных букв:\", lower_count)"
   ]
  },
  {
   "cell_type": "code",
   "execution_count": 25,
   "id": "8c7d7673-e36c-48a7-ad97-d159a715e673",
   "metadata": {},
   "outputs": [
    {
     "name": "stdout",
     "output_type": "stream",
     "text": [
      "Строка 'madam' является палиндромом: True\n"
     ]
    }
   ],
   "source": [
    "#3\n",
    "s = \"madam\"\n",
    "\n",
    "is_palindrome = s == s[::-1]\n",
    "print(f\"Строка '{s}' является палиндромом:\", is_palindrome)"
   ]
  },
  {
   "cell_type": "code",
   "execution_count": 27,
   "id": "a9356dc9-6a65-499e-b350-f75b4d501da9",
   "metadata": {},
   "outputs": [
    {
     "name": "stdout",
     "output_type": "stream",
     "text": [
      "Квадратный корень из 25100 после 2123 миллисекунд: 158.42979517754858\n"
     ]
    }
   ],
   "source": [
    "#4\n",
    "import time\n",
    "import math\n",
    "\n",
    "number = 25100\n",
    "milliseconds = 2123\n",
    "\n",
    "time.sleep(milliseconds / 1000)\n",
    "result = math.sqrt(number)\n",
    "\n",
    "print(f\"Квадратный корень из {number} после {milliseconds} миллисекунд: {result}\")"
   ]
  },
  {
   "cell_type": "code",
   "execution_count": 29,
   "id": "494b899b-70e8-467b-9949-a6f15ecde3d5",
   "metadata": {},
   "outputs": [
    {
     "name": "stdout",
     "output_type": "stream",
     "text": [
      "Все элементы кортежа являются True: False\n"
     ]
    }
   ],
   "source": [
    "t = (True, True, False)\n",
    "\n",
    "result = all(t)\n",
    "print(\"Все элементы кортежа являются True:\", result)"
   ]
  }
 ],
 "metadata": {
  "kernelspec": {
   "display_name": "Python [conda env:base] *",
   "language": "python",
   "name": "conda-base-py"
  },
  "language_info": {
   "codemirror_mode": {
    "name": "ipython",
    "version": 3
   },
   "file_extension": ".py",
   "mimetype": "text/x-python",
   "name": "python",
   "nbconvert_exporter": "python",
   "pygments_lexer": "ipython3",
   "version": "3.12.7"
  }
 },
 "nbformat": 4,
 "nbformat_minor": 5
}
